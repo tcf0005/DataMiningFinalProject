{
 "cells": [
  {
   "cell_type": "markdown",
   "metadata": {},
   "source": [
    "## Load Data from Raw Citation (Cora)"
   ]
  },
  {
   "cell_type": "code",
   "execution_count": 19,
   "metadata": {},
   "outputs": [],
   "source": [
    "import csv\n",
    "import os\n",
    "\n",
    "# path to dataset\n",
    "path=\"E:/Auburn/EE/Graduate/2023 Summer/COMP 6130/Project/Dataset/datasets/\"\n",
    "\n",
    "# dataset name for .cites and .content files\n",
    "select_dataset=5\n",
    "# 1: citeseer, 2: cornell, 3: texas, 4: washington, 5: wisconsin, else: cora\n",
    "if select_dataset==1:\n",
    "    dataset='citeseer'\n",
    "elif select_dataset==2:\n",
    "    dataset='cornell'\n",
    "elif select_dataset==3:\n",
    "    dataset='texas'\n",
    "elif select_dataset==4:\n",
    "    dataset='washington'\n",
    "elif select_dataset==5:\n",
    "    dataset='wisconsin'\n",
    "else:\n",
    "    dataset='cora'\n",
    "\n",
    "# export path for processed dataset\n",
    "save_root = path + dataset + '_processed/'\n",
    "\n",
    "os.makedirs(save_root, exist_ok=True)\n",
    "\n",
    "def replace_strings_with_integers(file_path, dataset, file_extension, save_root):\n",
    "    # Read the contents of the file\n",
    "    categories = {}\n",
    "    if dataset == 'cora':\n",
    "        categories = {'Case_Based': 0, 'Genetic_Algorithms': 1, 'Neural_Networks': 2, 'Probabilistic_Methods': 3, 'Reinforcement_Learning': 4, 'Rule_Learning': 5, 'Theory': 6}\n",
    "    elif dataset == 'citeseer':\n",
    "        categories = {'Agents': 0, 'AI': 1, 'DB': 2, 'IR': 3, 'ML': 4, 'HCI': 5}\n",
    "    else:\n",
    "        categories = {'course': 0, 'faculty': 1, 'project': 2, 'staff': 3, 'student': 4}\n",
    "    file_name = file_path + dataset + \".\" +file_extension\n",
    "    output_file_name = save_root + dataset + \".\" + file_extension\n",
    "    conversions_file_name = save_root + dataset + \"_\"+ file_extension + \".csv\"\n",
    "    input = open(file_name, 'r')\n",
    "    output = open(output_file_name, 'w')\n",
    "    lines = input.readlines()\n",
    "    conversions = {}\n",
    "    field_names = ['Original', 'Converted']\n",
    "\n",
    "\n",
    "    for line in lines:\n",
    "        words = line.split()\n",
    "        for i, word in enumerate(words):\n",
    "            if word.isnumeric():\n",
    "                words[i] = word\n",
    "            else:\n",
    "                if word not in conversions and word not in categories:\n",
    "                    temp = str(int.from_bytes(word.encode(), 'little'))\n",
    "                    words[i] = temp\n",
    "                    conversions[word] = temp\n",
    "                    #conversion_file.write(word + '\\t' + temp + '\\n')\n",
    "        output.write('\\t'.join(words) + '\\n')\n",
    "    \n",
    "    # if conversion is not empty, write to csv file\n",
    "    if conversions:\n",
    "        with open(conversions_file_name, 'w', newline='') as csvfile:\n",
    "            writer = csv.DictWriter(csvfile, fieldnames=field_names)\n",
    "            writer.writeheader()\n",
    "            for key, value in conversions.items():\n",
    "                writer.writerow({'Original': key, 'Converted': value})\n",
    "\n",
    "    input.close()\n",
    "    output.close()\n",
    "\n",
    "\n",
    "replace_strings_with_integers(path, dataset, \"cites\", save_root)\n",
    "replace_strings_with_integers(path, dataset, \"content\", save_root)"
   ]
  }
 ],
 "metadata": {
  "gist": {
   "data": {
    "description": "Plantenoid Citation Data Format Transformation",
    "public": true
   },
   "id": ""
  },
  "kernelspec": {
   "display_name": "Python 3",
   "language": "python",
   "name": "python3"
  },
  "language_info": {
   "codemirror_mode": {
    "name": "ipython",
    "version": 3
   },
   "file_extension": ".py",
   "mimetype": "text/x-python",
   "name": "python",
   "nbconvert_exporter": "python",
   "pygments_lexer": "ipython3",
   "version": "3.7.0"
  }
 },
 "nbformat": 4,
 "nbformat_minor": 2
}
